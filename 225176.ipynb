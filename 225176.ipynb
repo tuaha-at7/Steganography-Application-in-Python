{
 "cells": [
  {
   "cell_type": "markdown",
   "metadata": {},
   "source": [
    "# Question 02"
   ]
  },
  {
   "cell_type": "code",
   "execution_count": null,
   "metadata": {},
   "outputs": [
    {
     "name": "stdout",
     "output_type": "stream",
     "text": [
      "ImageWidth: 4624\n",
      "Model: b'LM-V600'\n",
      "ImageLength: 3468\n",
      "Orientation: 6\n",
      "DateTime: b'2023:11:19 16:57:42'\n",
      "YCbCrPositioning: 1\n",
      "ExifTag: 202\n",
      "ResolutionUnit: 2\n",
      "GPSTag: 717\n",
      "XResolution: (72, 1)\n",
      "YResolution: (72, 1)\n",
      "Make: b'LGE'\n"
     ]
    }
   ],
   "source": [
    "from PIL import Image\n",
    "import piexif\n",
    "\n",
    "# Load the image\n",
    "image_path = \"scene.jpg\" \n",
    "image = Image.open(image_path)\n",
    "\n",
    "# Get EXIF data\n",
    "exif_bytes = image.info.get(\"exif\")\n",
    "\n",
    "if exif_bytes:\n",
    "    try:\n",
    "        exif_data = piexif.load(exif_bytes)\n",
    "        for tag, value in exif_data[\"0th\"].items():\n",
    "            tag_name = piexif.TAGS[\"0th\"][tag][\"name\"]\n",
    "            print(f\"{tag_name}: {value}\")\n",
    "    except Exception as e:\n",
    "        print(f\"Error reading EXIF data: {e}\")\n",
    "else:\n",
    "    print(\"No EXIF metadata found in this image.\")\n",
    "\n",
    "# Show the image\n",
    "image.show()\n"
   ]
  },
  {
   "cell_type": "markdown",
   "metadata": {},
   "source": []
  }
 ],
 "metadata": {
  "kernelspec": {
   "display_name": "Python 3",
   "language": "python",
   "name": "python3"
  },
  "language_info": {
   "codemirror_mode": {
    "name": "ipython",
    "version": 3
   },
   "file_extension": ".py",
   "mimetype": "text/x-python",
   "name": "python",
   "nbconvert_exporter": "python",
   "pygments_lexer": "ipython3",
   "version": "3.13.2"
  }
 },
 "nbformat": 4,
 "nbformat_minor": 2
}
